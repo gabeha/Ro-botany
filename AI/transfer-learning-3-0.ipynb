{
 "cells": [
  {
   "cell_type": "code",
   "execution_count": 1,
   "id": "9bedb27c",
   "metadata": {
    "execution": {
     "iopub.execute_input": "2022-01-26T14:33:01.945059Z",
     "iopub.status.busy": "2022-01-26T14:33:01.943540Z",
     "iopub.status.idle": "2022-01-26T14:33:05.924437Z",
     "shell.execute_reply": "2022-01-26T14:33:05.923349Z",
     "shell.execute_reply.started": "2022-01-26T14:16:01.043288Z"
    },
    "papermill": {
     "duration": 4.006953,
     "end_time": "2022-01-26T14:33:05.924650",
     "exception": false,
     "start_time": "2022-01-26T14:33:01.917697",
     "status": "completed"
    },
    "tags": []
   },
   "outputs": [],
   "source": [
    "import tensorflow as tf\n",
    "import os\n",
    "import numpy as np\n",
    "import pandas as pd"
   ]
  },
  {
   "cell_type": "code",
   "execution_count": 2,
   "id": "932dc17c",
   "metadata": {
    "_cell_guid": "b1076dfc-b9ad-4769-8c92-a6c4dae69d19",
    "_uuid": "8f2839f25d086af736a60e9eeb907d3b93b6e0e5",
    "execution": {
     "iopub.execute_input": "2022-01-26T14:33:05.972164Z",
     "iopub.status.busy": "2022-01-26T14:33:05.971472Z",
     "iopub.status.idle": "2022-01-26T14:33:05.974498Z",
     "shell.execute_reply": "2022-01-26T14:33:05.975081Z",
     "shell.execute_reply.started": "2022-01-26T14:16:04.884109Z"
    },
    "papermill": {
     "duration": 0.02882,
     "end_time": "2022-01-26T14:33:05.975254",
     "exception": false,
     "start_time": "2022-01-26T14:33:05.946434",
     "status": "completed"
    },
    "tags": []
   },
   "outputs": [
    {
     "name": "stdout",
     "output_type": "stream",
     "text": [
      "2.6.2\n"
     ]
    }
   ],
   "source": [
    "print(tf.version.VERSION)"
   ]
  },
  {
   "cell_type": "code",
   "execution_count": 3,
   "id": "0a2858c2",
   "metadata": {
    "execution": {
     "iopub.execute_input": "2022-01-26T14:33:06.023933Z",
     "iopub.status.busy": "2022-01-26T14:33:06.023272Z",
     "iopub.status.idle": "2022-01-26T14:33:06.037378Z",
     "shell.execute_reply": "2022-01-26T14:33:06.036663Z",
     "shell.execute_reply.started": "2022-01-26T14:16:04.890940Z"
    },
    "papermill": {
     "duration": 0.040112,
     "end_time": "2022-01-26T14:33:06.037527",
     "exception": false,
     "start_time": "2022-01-26T14:33:05.997415",
     "status": "completed"
    },
    "tags": []
   },
   "outputs": [
    {
     "name": "stdout",
     "output_type": "stream",
     "text": [
      "['thyme', 'rosemary', 'sage', 'basil', 'spearmint', 'oregano']\n",
      "6\n"
     ]
    }
   ],
   "source": [
    "dataset_path = os.listdir('../input/pruned/pruned_images')\n",
    "\n",
    "print(dataset_path)\n",
    "\n",
    "print(len(dataset_path))"
   ]
  },
  {
   "cell_type": "code",
   "execution_count": 4,
   "id": "d86d1da9",
   "metadata": {
    "execution": {
     "iopub.execute_input": "2022-01-26T14:33:06.086004Z",
     "iopub.status.busy": "2022-01-26T14:33:06.085426Z",
     "iopub.status.idle": "2022-01-26T14:33:06.622123Z",
     "shell.execute_reply": "2022-01-26T14:33:06.621592Z",
     "shell.execute_reply.started": "2022-01-26T14:16:04.915266Z"
    },
    "papermill": {
     "duration": 0.562623,
     "end_time": "2022-01-26T14:33:06.622274",
     "exception": false,
     "start_time": "2022-01-26T14:33:06.059651",
     "status": "completed"
    },
    "tags": []
   },
   "outputs": [],
   "source": [
    "class_labels = []\n",
    "\n",
    "for item in dataset_path:\n",
    "    all_classes = os.listdir('../input/pruned/pruned_images' + '/' + item)\n",
    "    \n",
    "    for room in all_classes:\n",
    "        class_labels.append((item, str('dataset_path' + '/' + item) + '/' + room))"
   ]
  },
  {
   "cell_type": "code",
   "execution_count": 5,
   "id": "f39f51d2",
   "metadata": {
    "execution": {
     "iopub.execute_input": "2022-01-26T14:33:06.677668Z",
     "iopub.status.busy": "2022-01-26T14:33:06.677104Z",
     "iopub.status.idle": "2022-01-26T14:33:06.686351Z",
     "shell.execute_reply": "2022-01-26T14:33:06.686910Z",
     "shell.execute_reply.started": "2022-01-26T14:16:05.394821Z"
    },
    "papermill": {
     "duration": 0.043127,
     "end_time": "2022-01-26T14:33:06.687106",
     "exception": false,
     "start_time": "2022-01-26T14:33:06.643979",
     "status": "completed"
    },
    "tags": []
   },
   "outputs": [
    {
     "name": "stdout",
     "output_type": "stream",
     "text": [
      "  labels                            image\n",
      "0  thyme  dataset_path/thyme/image233.jpg\n",
      "1  thyme  dataset_path/thyme/image920.jpg\n",
      "2  thyme  dataset_path/thyme/image752.jpg\n",
      "3  thyme  dataset_path/thyme/image571.jpg\n",
      "4  thyme  dataset_path/thyme/image596.jpg\n",
      "       labels                               image\n",
      "2876  oregano  dataset_path/oregano/image7029.jpg\n",
      "2877  oregano  dataset_path/oregano/image2238.jpg\n",
      "2878  oregano  dataset_path/oregano/image8560.jpg\n",
      "2879  oregano  dataset_path/oregano/image2287.jpg\n",
      "2880  oregano  dataset_path/oregano/image2208.jpg\n"
     ]
    }
   ],
   "source": [
    "df = pd.DataFrame(data=class_labels, columns=['labels', 'image'])\n",
    "print(df.head())\n",
    "print(df.tail())"
   ]
  },
  {
   "cell_type": "code",
   "execution_count": 6,
   "id": "a11e3824",
   "metadata": {
    "execution": {
     "iopub.execute_input": "2022-01-26T14:33:06.738132Z",
     "iopub.status.busy": "2022-01-26T14:33:06.737504Z",
     "iopub.status.idle": "2022-01-26T14:33:23.173931Z",
     "shell.execute_reply": "2022-01-26T14:33:23.173439Z",
     "shell.execute_reply.started": "2022-01-26T14:16:05.412704Z"
    },
    "papermill": {
     "duration": 16.463873,
     "end_time": "2022-01-26T14:33:23.174067",
     "exception": false,
     "start_time": "2022-01-26T14:33:06.710194",
     "status": "completed"
    },
    "tags": []
   },
   "outputs": [
    {
     "name": "stdout",
     "output_type": "stream",
     "text": [
      "../input/pruned/pruned_images/thyme\n",
      "../input/pruned/pruned_images/rosemary\n",
      "../input/pruned/pruned_images/sage\n",
      "../input/pruned/pruned_images/basil\n",
      "../input/pruned/pruned_images/spearmint\n",
      "../input/pruned/pruned_images/oregano\n"
     ]
    }
   ],
   "source": [
    "import cv2\n",
    "\n",
    "path = '../input/pruned/pruned_images/'\n",
    "dataset_path = os.listdir('../input/pruned/pruned_images')\n",
    "\n",
    "IMG_SIZE = 224\n",
    "\n",
    "images = []\n",
    "labels = []\n",
    "\n",
    "for i in dataset_path:\n",
    "    data_path = path + str(i)\n",
    "    print(data_path)\n",
    "    filenames = [i for i in os.listdir(data_path)]\n",
    "    \n",
    "    for f in filenames:\n",
    "        img = cv2.imread(data_path + '/' + f)\n",
    "        img = cv2.resize(img, (IMG_SIZE, IMG_SIZE))\n",
    "        images.append(img)\n",
    "        labels.append(i)"
   ]
  },
  {
   "cell_type": "code",
   "execution_count": 7,
   "id": "078cc75c",
   "metadata": {
    "execution": {
     "iopub.execute_input": "2022-01-26T14:33:23.227989Z",
     "iopub.status.busy": "2022-01-26T14:33:23.226775Z",
     "iopub.status.idle": "2022-01-26T14:33:23.766370Z",
     "shell.execute_reply": "2022-01-26T14:33:23.765869Z",
     "shell.execute_reply.started": "2022-01-26T14:16:19.868073Z"
    },
    "papermill": {
     "duration": 0.568466,
     "end_time": "2022-01-26T14:33:23.766503",
     "exception": false,
     "start_time": "2022-01-26T14:33:23.198037",
     "status": "completed"
    },
    "tags": []
   },
   "outputs": [],
   "source": [
    "images = np.array(images)\n",
    "\n",
    "images = images.astype('float32')\n",
    "# print(images.shape)\n",
    "# print(labels)"
   ]
  },
  {
   "cell_type": "code",
   "execution_count": 8,
   "id": "a8e87bc6",
   "metadata": {
    "execution": {
     "iopub.execute_input": "2022-01-26T14:33:23.819856Z",
     "iopub.status.busy": "2022-01-26T14:33:23.819199Z",
     "iopub.status.idle": "2022-01-26T14:33:24.335766Z",
     "shell.execute_reply": "2022-01-26T14:33:24.336369Z",
     "shell.execute_reply.started": "2022-01-26T14:16:20.409016Z"
    },
    "papermill": {
     "duration": 0.546678,
     "end_time": "2022-01-26T14:33:24.336567",
     "exception": false,
     "start_time": "2022-01-26T14:33:23.789889",
     "status": "completed"
    },
    "tags": []
   },
   "outputs": [
    {
     "name": "stdout",
     "output_type": "stream",
     "text": [
      "['thyme' 'thyme' 'thyme' ... 'oregano' 'oregano' 'oregano']\n",
      "[5 5 5 ... 1 1 1]\n"
     ]
    }
   ],
   "source": [
    "from sklearn.preprocessing import LabelEncoder, OneHotEncoder\n",
    "\n",
    "y = df['labels'].values\n",
    "print(y)\n",
    "# for h in y:\n",
    "#     print(h)\n",
    "\n",
    "y_labelencoder = LabelEncoder()\n",
    "y = y_labelencoder.fit_transform(y)\n",
    "print(y)\n",
    "# for h in y:\n",
    "#     print(h)"
   ]
  },
  {
   "cell_type": "code",
   "execution_count": 9,
   "id": "4bd06098",
   "metadata": {
    "execution": {
     "iopub.execute_input": "2022-01-26T14:33:24.396065Z",
     "iopub.status.busy": "2022-01-26T14:33:24.395246Z",
     "iopub.status.idle": "2022-01-26T14:33:24.409006Z",
     "shell.execute_reply": "2022-01-26T14:33:24.408320Z",
     "shell.execute_reply.started": "2022-01-26T14:16:20.931296Z"
    },
    "papermill": {
     "duration": 0.045684,
     "end_time": "2022-01-26T14:33:24.409174",
     "exception": false,
     "start_time": "2022-01-26T14:33:24.363490",
     "status": "completed"
    },
    "tags": []
   },
   "outputs": [
    {
     "name": "stdout",
     "output_type": "stream",
     "text": [
      "(2881,)\n"
     ]
    }
   ],
   "source": [
    "y = y.reshape(-1,1)\n",
    "\n",
    "from sklearn.compose import ColumnTransformer\n",
    "\n",
    "ct = ColumnTransformer([('my_ohe', OneHotEncoder(), [0])], remainder='passthrough')\n",
    "Y = ct.fit_transform(y).toarray()\n",
    "\n",
    "Y = np.array(Y)\n",
    "\n",
    "Y = np.argmax(Y, axis=1)\n",
    "\n",
    "print(Y.shape)"
   ]
  },
  {
   "cell_type": "code",
   "execution_count": 10,
   "id": "778651ea",
   "metadata": {
    "execution": {
     "iopub.execute_input": "2022-01-26T14:33:28.439545Z",
     "iopub.status.busy": "2022-01-26T14:33:28.438489Z",
     "iopub.status.idle": "2022-01-26T14:33:29.690601Z",
     "shell.execute_reply": "2022-01-26T14:33:29.691365Z",
     "shell.execute_reply.started": "2022-01-26T14:16:20.950709Z"
    },
    "papermill": {
     "duration": 5.255776,
     "end_time": "2022-01-26T14:33:29.691565",
     "exception": false,
     "start_time": "2022-01-26T14:33:24.435789",
     "status": "completed"
    },
    "tags": []
   },
   "outputs": [
    {
     "name": "stderr",
     "output_type": "stream",
     "text": [
      "2022-01-26 14:33:24.515912: I tensorflow/stream_executor/cuda/cuda_gpu_executor.cc:937] successful NUMA node read from SysFS had negative value (-1), but there must be at least one NUMA node, so returning NUMA node zero\n",
      "2022-01-26 14:33:24.644459: I tensorflow/stream_executor/cuda/cuda_gpu_executor.cc:937] successful NUMA node read from SysFS had negative value (-1), but there must be at least one NUMA node, so returning NUMA node zero\n",
      "2022-01-26 14:33:24.645356: I tensorflow/stream_executor/cuda/cuda_gpu_executor.cc:937] successful NUMA node read from SysFS had negative value (-1), but there must be at least one NUMA node, so returning NUMA node zero\n",
      "2022-01-26 14:33:24.648108: I tensorflow/core/platform/cpu_feature_guard.cc:142] This TensorFlow binary is optimized with oneAPI Deep Neural Network Library (oneDNN) to use the following CPU instructions in performance-critical operations:  AVX2 AVX512F FMA\n",
      "To enable them in other operations, rebuild TensorFlow with the appropriate compiler flags.\n",
      "2022-01-26 14:33:24.649380: I tensorflow/stream_executor/cuda/cuda_gpu_executor.cc:937] successful NUMA node read from SysFS had negative value (-1), but there must be at least one NUMA node, so returning NUMA node zero\n",
      "2022-01-26 14:33:24.650080: I tensorflow/stream_executor/cuda/cuda_gpu_executor.cc:937] successful NUMA node read from SysFS had negative value (-1), but there must be at least one NUMA node, so returning NUMA node zero\n",
      "2022-01-26 14:33:24.650686: I tensorflow/stream_executor/cuda/cuda_gpu_executor.cc:937] successful NUMA node read from SysFS had negative value (-1), but there must be at least one NUMA node, so returning NUMA node zero\n",
      "2022-01-26 14:33:26.365607: I tensorflow/stream_executor/cuda/cuda_gpu_executor.cc:937] successful NUMA node read from SysFS had negative value (-1), but there must be at least one NUMA node, so returning NUMA node zero\n",
      "2022-01-26 14:33:26.366579: I tensorflow/stream_executor/cuda/cuda_gpu_executor.cc:937] successful NUMA node read from SysFS had negative value (-1), but there must be at least one NUMA node, so returning NUMA node zero\n",
      "2022-01-26 14:33:26.367525: I tensorflow/stream_executor/cuda/cuda_gpu_executor.cc:937] successful NUMA node read from SysFS had negative value (-1), but there must be at least one NUMA node, so returning NUMA node zero\n",
      "2022-01-26 14:33:26.368337: I tensorflow/core/common_runtime/gpu/gpu_device.cc:1510] Created device /job:localhost/replica:0/task:0/device:GPU:0 with 15403 MB memory:  -> device: 0, name: Tesla P100-PCIE-16GB, pci bus id: 0000:00:04.0, compute capability: 6.0\n",
      "2022-01-26 14:33:26.374490: W tensorflow/core/framework/cpu_allocator_impl.cc:80] Allocation of 1734684672 exceeds 10% of free system memory.\n",
      "2022-01-26 14:33:28.442530: W tensorflow/core/framework/cpu_allocator_impl.cc:80] Allocation of 1734684672 exceeds 10% of free system memory.\n"
     ]
    },
    {
     "name": "stdout",
     "output_type": "stream",
     "text": [
      "<TensorSliceDataset shapes: ((224, 224, 3), ()), types: (tf.float32, tf.int64)>\n"
     ]
    }
   ],
   "source": [
    "dataset = tf.data.Dataset.from_tensor_slices((images, Y) )\n",
    "print(dataset)\n",
    "# for element in dataset.take(1):\n",
    "#   print(element)"
   ]
  },
  {
   "cell_type": "code",
   "execution_count": 11,
   "id": "264132c9",
   "metadata": {
    "execution": {
     "iopub.execute_input": "2022-01-26T14:33:29.746110Z",
     "iopub.status.busy": "2022-01-26T14:33:29.745438Z",
     "iopub.status.idle": "2022-01-26T14:33:29.754672Z",
     "shell.execute_reply": "2022-01-26T14:33:29.755142Z",
     "shell.execute_reply.started": "2022-01-26T14:16:26.102085Z"
    },
    "papermill": {
     "duration": 0.038861,
     "end_time": "2022-01-26T14:33:29.755292",
     "exception": false,
     "start_time": "2022-01-26T14:33:29.716431",
     "status": "completed"
    },
    "tags": []
   },
   "outputs": [],
   "source": [
    "dataset = dataset.shuffle(buffer_size = 2048)\n",
    "ds_train = dataset.take(round(0.8*len(dataset)))\n",
    "ds_test = dataset.skip(round(0.8*len(dataset)))"
   ]
  },
  {
   "cell_type": "code",
   "execution_count": 12,
   "id": "735d4cc1",
   "metadata": {
    "execution": {
     "iopub.execute_input": "2022-01-26T14:33:29.808873Z",
     "iopub.status.busy": "2022-01-26T14:33:29.807990Z",
     "iopub.status.idle": "2022-01-26T14:33:29.812401Z",
     "shell.execute_reply": "2022-01-26T14:33:29.812993Z",
     "shell.execute_reply.started": "2022-01-26T14:16:26.116058Z"
    },
    "papermill": {
     "duration": 0.033601,
     "end_time": "2022-01-26T14:33:29.813171",
     "exception": false,
     "start_time": "2022-01-26T14:33:29.779570",
     "status": "completed"
    },
    "tags": []
   },
   "outputs": [
    {
     "name": "stdout",
     "output_type": "stream",
     "text": [
      "2305\n",
      "576\n"
     ]
    }
   ],
   "source": [
    "print(len(ds_train))\n",
    "print(len(ds_test))"
   ]
  },
  {
   "cell_type": "code",
   "execution_count": 13,
   "id": "52f50635",
   "metadata": {
    "execution": {
     "iopub.execute_input": "2022-01-26T14:33:29.869495Z",
     "iopub.status.busy": "2022-01-26T14:33:29.868787Z",
     "iopub.status.idle": "2022-01-26T14:33:30.738136Z",
     "shell.execute_reply": "2022-01-26T14:33:30.737624Z",
     "shell.execute_reply.started": "2022-01-26T14:16:26.123432Z"
    },
    "papermill": {
     "duration": 0.899767,
     "end_time": "2022-01-26T14:33:30.738274",
     "exception": false,
     "start_time": "2022-01-26T14:33:29.838507",
     "status": "completed"
    },
    "tags": []
   },
   "outputs": [],
   "source": [
    "from tensorflow.keras.models import Sequential\n",
    "from tensorflow.keras import layers\n",
    "\n",
    "img_augmentation = Sequential(\n",
    "    [\n",
    "        layers.RandomRotation(factor=0.15),\n",
    "        layers.RandomTranslation(height_factor=0.1, width_factor=0.1),\n",
    "        layers.RandomFlip(),\n",
    "        layers.RandomContrast(factor=0.1),\n",
    "    ],\n",
    "    name=\"img_augmentation\",\n",
    ")\n"
   ]
  },
  {
   "cell_type": "code",
   "execution_count": 14,
   "id": "6d1f2b2b",
   "metadata": {
    "execution": {
     "iopub.execute_input": "2022-01-26T14:33:30.796266Z",
     "iopub.status.busy": "2022-01-26T14:33:30.790627Z",
     "iopub.status.idle": "2022-01-26T14:33:30.869782Z",
     "shell.execute_reply": "2022-01-26T14:33:30.870379Z",
     "shell.execute_reply.started": "2022-01-26T14:16:27.004296Z"
    },
    "papermill": {
     "duration": 0.10711,
     "end_time": "2022-01-26T14:33:30.870570",
     "exception": false,
     "start_time": "2022-01-26T14:33:30.763460",
     "status": "completed"
    },
    "tags": []
   },
   "outputs": [
    {
     "name": "stdout",
     "output_type": "stream",
     "text": [
      "<TakeDataset shapes: ((224, 224, 3), ()), types: (tf.float32, tf.int64)>\n",
      "<ParallelMapDataset shapes: ((224, 224, 3), (6,)), types: (tf.float32, tf.float32)>\n"
     ]
    }
   ],
   "source": [
    "# One-hot / categorical encoding\n",
    "\n",
    "NUM_CLASSES = 6\n",
    "batch_size = 64\n",
    "\n",
    "def input_preprocess(image, label):\n",
    "    label = tf.one_hot(label, NUM_CLASSES)\n",
    "    return image, label\n",
    "\n",
    "print(ds_train)\n",
    "\n",
    "ds_train = ds_train.map(\n",
    "    input_preprocess, num_parallel_calls=tf.data.AUTOTUNE\n",
    ")\n",
    "\n",
    "print(ds_train)\n",
    "ds_train = ds_train.batch(batch_size=batch_size, drop_remainder=True)\n",
    "ds_train = ds_train.prefetch(tf.data.AUTOTUNE)\n",
    "\n",
    "ds_test = ds_test.map(input_preprocess)\n",
    "ds_test = ds_test.batch(batch_size=batch_size, drop_remainder=True)"
   ]
  },
  {
   "cell_type": "code",
   "execution_count": 15,
   "id": "0e60f4fe",
   "metadata": {
    "execution": {
     "iopub.execute_input": "2022-01-26T14:33:30.928183Z",
     "iopub.status.busy": "2022-01-26T14:33:30.927371Z",
     "iopub.status.idle": "2022-01-26T14:33:30.929406Z",
     "shell.execute_reply": "2022-01-26T14:33:30.929771Z",
     "shell.execute_reply.started": "2022-01-26T14:16:27.084050Z"
    },
    "papermill": {
     "duration": 0.033272,
     "end_time": "2022-01-26T14:33:30.929921",
     "exception": false,
     "start_time": "2022-01-26T14:33:30.896649",
     "status": "completed"
    },
    "tags": []
   },
   "outputs": [],
   "source": [
    "def scheduler(epoch, lr):\n",
    "    if epoch < 20:\n",
    "        return lr\n",
    "    else:\n",
    "        return lr * tf.math.exp(-0.028)\n",
    "lr_schedule = tf.keras.callbacks.LearningRateScheduler(scheduler)\n",
    "\n",
    "callback = tf.keras.callbacks.EarlyStopping(monitor='val_loss',\n",
    "                                patience = 25, \n",
    "                                mode='auto', \n",
    "                                restore_best_weights=True)"
   ]
  },
  {
   "cell_type": "code",
   "execution_count": 16,
   "id": "d97e3e08",
   "metadata": {
    "execution": {
     "iopub.execute_input": "2022-01-26T14:33:30.988370Z",
     "iopub.status.busy": "2022-01-26T14:33:30.987639Z",
     "iopub.status.idle": "2022-01-26T14:33:30.990990Z",
     "shell.execute_reply": "2022-01-26T14:33:30.990552Z",
     "shell.execute_reply.started": "2022-01-26T14:16:27.094320Z"
    },
    "papermill": {
     "duration": 0.036479,
     "end_time": "2022-01-26T14:33:30.991113",
     "exception": false,
     "start_time": "2022-01-26T14:33:30.954634",
     "status": "completed"
    },
    "tags": []
   },
   "outputs": [],
   "source": [
    "from tensorflow.keras.applications import EfficientNetB0\n",
    "def build_model(num_classes):\n",
    "    inputs = layers.Input(shape=(IMG_SIZE, IMG_SIZE, 3))\n",
    "    x = img_augmentation(inputs)\n",
    "    model = EfficientNetB0(include_top=False, input_tensor=x, weights=\"imagenet\")\n",
    "\n",
    "    # Freeze the pretrained weights\n",
    "    model.trainable = False\n",
    "\n",
    "    # Rebuild top\n",
    "    x = layers.GlobalAveragePooling2D(name=\"avg_pool\")(model.output)\n",
    "    x = layers.BatchNormalization()(x)\n",
    "\n",
    "    top_dropout_rate = 0.2\n",
    "    x = layers.Dropout(top_dropout_rate, name=\"top_dropout\")(x)\n",
    "    outputs = layers.Dense(NUM_CLASSES, activation=\"softmax\", name=\"pred\")(x)\n",
    "\n",
    "    # Compile\n",
    "    model = tf.keras.Model(inputs, outputs, name=\"EfficientNet\")\n",
    "    optimizer = tf.keras.optimizers.Adam(learning_rate=1e-2)\n",
    "    model.compile(\n",
    "        optimizer=optimizer, loss=\"categorical_crossentropy\", metrics=[\"accuracy\"]\n",
    "    )\n",
    "    return model"
   ]
  },
  {
   "cell_type": "code",
   "execution_count": 17,
   "id": "946e6169",
   "metadata": {
    "execution": {
     "iopub.execute_input": "2022-01-26T14:33:31.052151Z",
     "iopub.status.busy": "2022-01-26T14:33:31.048480Z",
     "iopub.status.idle": "2022-01-26T14:33:31.055221Z",
     "shell.execute_reply": "2022-01-26T14:33:31.054777Z",
     "shell.execute_reply.started": "2022-01-26T14:16:27.104790Z"
    },
    "papermill": {
     "duration": 0.035977,
     "end_time": "2022-01-26T14:33:31.055347",
     "exception": false,
     "start_time": "2022-01-26T14:33:31.019370",
     "status": "completed"
    },
    "tags": []
   },
   "outputs": [],
   "source": [
    "import matplotlib.pyplot as plt\n",
    "\n",
    "\n",
    "def plot_hist(hist):\n",
    "    plt.plot(hist.history[\"accuracy\"])\n",
    "    plt.plot(hist.history[\"val_accuracy\"])\n",
    "    plt.title(\"model accuracy\")\n",
    "    plt.ylabel(\"accuracy\")\n",
    "    plt.xlabel(\"epoch\")\n",
    "    plt.legend([\"train\", \"validation\"], loc=\"upper left\")\n",
    "    plt.show()\n"
   ]
  },
  {
   "cell_type": "code",
   "execution_count": 18,
   "id": "96b25160",
   "metadata": {
    "execution": {
     "iopub.execute_input": "2022-01-26T14:33:31.113688Z",
     "iopub.status.busy": "2022-01-26T14:33:31.110113Z",
     "iopub.status.idle": "2022-01-26T14:35:22.577194Z",
     "shell.execute_reply": "2022-01-26T14:35:22.576725Z",
     "shell.execute_reply.started": "2022-01-26T14:16:27.116889Z"
    },
    "papermill": {
     "duration": 111.497205,
     "end_time": "2022-01-26T14:35:22.577338",
     "exception": false,
     "start_time": "2022-01-26T14:33:31.080133",
     "status": "completed"
    },
    "tags": []
   },
   "outputs": [
    {
     "name": "stdout",
     "output_type": "stream",
     "text": [
      "Downloading data from https://storage.googleapis.com/keras-applications/efficientnetb0_notop.h5\n",
      "16711680/16705208 [==============================] - 0s 0us/step\n",
      "16719872/16705208 [==============================] - 0s 0us/step\n"
     ]
    },
    {
     "name": "stderr",
     "output_type": "stream",
     "text": [
      "2022-01-26 14:33:33.249158: W tensorflow/core/framework/cpu_allocator_impl.cc:80] Allocation of 1734684672 exceeds 10% of free system memory.\n",
      "2022-01-26 14:33:34.890478: I tensorflow/compiler/mlir/mlir_graph_optimization_pass.cc:185] None of the MLIR Optimization Passes are enabled (registered 2)\n",
      "2022-01-26 14:33:34.928784: W tensorflow/core/framework/cpu_allocator_impl.cc:80] Allocation of 1734684672 exceeds 10% of free system memory.\n"
     ]
    },
    {
     "name": "stdout",
     "output_type": "stream",
     "text": [
      "Epoch 1/10\n"
     ]
    },
    {
     "name": "stderr",
     "output_type": "stream",
     "text": [
      "2022-01-26 14:33:42.876601: I tensorflow/stream_executor/cuda/cuda_dnn.cc:369] Loaded cuDNN version 8005\n"
     ]
    },
    {
     "name": "stdout",
     "output_type": "stream",
     "text": [
      "36/36 [==============================] - ETA: 0s - loss: 1.4601 - accuracy: 0.6272"
     ]
    },
    {
     "name": "stderr",
     "output_type": "stream",
     "text": [
      "2022-01-26 14:33:50.967960: W tensorflow/core/framework/cpu_allocator_impl.cc:80] Allocation of 1734684672 exceeds 10% of free system memory.\n"
     ]
    },
    {
     "name": "stdout",
     "output_type": "stream",
     "text": [
      "36/36 [==============================] - 20s 233ms/step - loss: 1.4601 - accuracy: 0.6272 - val_loss: 1.2187 - val_accuracy: 0.5052\n",
      "Epoch 2/10\n",
      "36/36 [==============================] - 7s 193ms/step - loss: 1.1477 - accuracy: 0.7339 - val_loss: 0.8289 - val_accuracy: 0.6875\n",
      "Epoch 3/10\n",
      "36/36 [==============================] - 7s 194ms/step - loss: 1.0067 - accuracy: 0.7383 - val_loss: 0.5930 - val_accuracy: 0.7743\n",
      "Epoch 4/10\n",
      "36/36 [==============================] - 7s 204ms/step - loss: 0.9116 - accuracy: 0.7600 - val_loss: 0.6828 - val_accuracy: 0.7535\n",
      "Epoch 5/10\n",
      "36/36 [==============================] - 7s 200ms/step - loss: 0.8997 - accuracy: 0.7587 - val_loss: 0.5216 - val_accuracy: 0.8177\n",
      "Epoch 6/10\n",
      "36/36 [==============================] - 7s 199ms/step - loss: 0.8973 - accuracy: 0.7661 - val_loss: 0.5058 - val_accuracy: 0.8264\n",
      "Epoch 7/10\n",
      "36/36 [==============================] - 7s 193ms/step - loss: 0.8251 - accuracy: 0.7730 - val_loss: 0.5305 - val_accuracy: 0.8264\n",
      "Epoch 8/10\n",
      "36/36 [==============================] - 7s 197ms/step - loss: 0.8321 - accuracy: 0.7726 - val_loss: 0.4349 - val_accuracy: 0.8385\n",
      "Epoch 9/10\n",
      "36/36 [==============================] - 7s 196ms/step - loss: 0.8456 - accuracy: 0.7769 - val_loss: 0.4081 - val_accuracy: 0.8611\n",
      "Epoch 10/10\n",
      "36/36 [==============================] - 7s 204ms/step - loss: 0.9408 - accuracy: 0.7665 - val_loss: 0.4802 - val_accuracy: 0.8542\n"
     ]
    },
    {
     "data": {
      "image/png": "[encoded data removed]",
      "text/plain": [
       "<Figure size 432x288 with 1 Axes>"
      ]
     },
     "metadata": {
      "needs_background": "light"
     },
     "output_type": "display_data"
    }
   ],
   "source": [
    "model = build_model(num_classes=NUM_CLASSES)\n",
    "\n",
    "epochs = 10\n",
    "hist = model.fit(ds_train, epochs=epochs, validation_data=ds_test, verbose=1) #, callbacks=[callback, lr_schedule])\n",
    "plot_hist(hist)"
   ]
  },
  {
   "cell_type": "code",
   "execution_count": 19,
   "id": "5dbe6f18",
   "metadata": {
    "execution": {
     "iopub.execute_input": "2022-01-26T14:35:22.832767Z",
     "iopub.status.busy": "2022-01-26T14:35:22.832012Z",
     "iopub.status.idle": "2022-01-26T14:35:52.637980Z",
     "shell.execute_reply": "2022-01-26T14:35:52.638595Z",
     "shell.execute_reply.started": "2022-01-26T14:20:44.600382Z"
    },
    "papermill": {
     "duration": 29.936478,
     "end_time": "2022-01-26T14:35:52.638824",
     "exception": false,
     "start_time": "2022-01-26T14:35:22.702346",
     "status": "completed"
    },
    "tags": []
   },
   "outputs": [
    {
     "name": "stdout",
     "output_type": "stream",
     "text": [
      "<BatchDataset shapes: ((None, 224, 224, 3), (None, 6)), types: (tf.float32, tf.float32)>\n",
      "[[ 90   3   0   2   3   0]\n",
      " [  1 109   0   4   7   1]\n",
      " [  0   0  81   3   1   3]\n",
      " [  0   5   1  76   2   0]\n",
      " [  1   6   4   1  75   1]\n",
      " [  1  15   3   5   2  70]]\n"
     ]
    }
   ],
   "source": [
    "from sklearn import metrics\n",
    "ds_unbatch = ds_test.unbatch().batch(1)\n",
    "\n",
    "print(ds_unbatch)\n",
    "pred = []\n",
    "y_test = []\n",
    "for i, data in enumerate(ds_unbatch):\n",
    "    pred.append(np.argmax(model.predict(data[0]), axis=1))\n",
    "    y_test.append(np.argmax(data[1], axis=1))\n",
    "\n",
    "# Print confusion matrix\n",
    "print(metrics.confusion_matrix(y_test, pred))"
   ]
  },
  {
   "cell_type": "code",
   "execution_count": 20,
   "id": "d38ffb83",
   "metadata": {
    "execution": {
     "iopub.execute_input": "2022-01-26T14:35:52.895079Z",
     "iopub.status.busy": "2022-01-26T14:35:52.894148Z",
     "iopub.status.idle": "2022-01-26T14:35:52.897088Z",
     "shell.execute_reply": "2022-01-26T14:35:52.897656Z",
     "shell.execute_reply.started": "2022-01-26T14:21:11.377028Z"
    },
    "papermill": {
     "duration": 0.133868,
     "end_time": "2022-01-26T14:35:52.897861",
     "exception": false,
     "start_time": "2022-01-26T14:35:52.763993",
     "status": "completed"
    },
    "tags": []
   },
   "outputs": [
    {
     "name": "stdout",
     "output_type": "stream",
     "text": [
      "576\n"
     ]
    }
   ],
   "source": [
    "print(len(ds_unbatch))"
   ]
  },
  {
   "cell_type": "code",
   "execution_count": 21,
   "id": "3e1edb5a",
   "metadata": {
    "execution": {
     "iopub.execute_input": "2022-01-26T14:35:53.166950Z",
     "iopub.status.busy": "2022-01-26T14:35:53.165997Z",
     "iopub.status.idle": "2022-01-26T14:36:27.498547Z",
     "shell.execute_reply": "2022-01-26T14:36:27.499104Z",
     "shell.execute_reply.started": "2022-01-26T14:21:11.385418Z"
    },
    "papermill": {
     "duration": 34.476792,
     "end_time": "2022-01-26T14:36:27.499302",
     "exception": false,
     "start_time": "2022-01-26T14:35:53.022510",
     "status": "completed"
    },
    "tags": []
   },
   "outputs": [
    {
     "name": "stderr",
     "output_type": "stream",
     "text": [
      "2022-01-26 14:36:04.400386: W tensorflow/python/util/util.cc:348] Sets are not currently considered sequences, but this may change in the future, so consider avoiding using them.\n",
      "/opt/conda/lib/python3.7/site-packages/keras/utils/generic_utils.py:497: CustomMaskWarning: Custom mask layers require a config and must override get_config. When loading, the custom mask layer must be passed to the custom_objects argument.\n",
      "  category=CustomMaskWarning)\n",
      "2022-01-26 14:36:25.403009: I tensorflow/stream_executor/cuda/cuda_gpu_executor.cc:937] successful NUMA node read from SysFS had negative value (-1), but there must be at least one NUMA node, so returning NUMA node zero\n",
      "2022-01-26 14:36:25.403403: I tensorflow/core/grappler/devices.cc:66] Number of eligible GPUs (core count >= 8, compute capability >= 0.0): 1\n",
      "2022-01-26 14:36:25.403538: I tensorflow/core/grappler/clusters/single_machine.cc:357] Starting new session\n",
      "2022-01-26 14:36:25.404064: I tensorflow/stream_executor/cuda/cuda_gpu_executor.cc:937] successful NUMA node read from SysFS had negative value (-1), but there must be at least one NUMA node, so returning NUMA node zero\n",
      "2022-01-26 14:36:25.404485: I tensorflow/stream_executor/cuda/cuda_gpu_executor.cc:937] successful NUMA node read from SysFS had negative value (-1), but there must be at least one NUMA node, so returning NUMA node zero\n",
      "2022-01-26 14:36:25.404879: I tensorflow/stream_executor/cuda/cuda_gpu_executor.cc:937] successful NUMA node read from SysFS had negative value (-1), but there must be at least one NUMA node, so returning NUMA node zero\n",
      "2022-01-26 14:36:25.405390: I tensorflow/stream_executor/cuda/cuda_gpu_executor.cc:937] successful NUMA node read from SysFS had negative value (-1), but there must be at least one NUMA node, so returning NUMA node zero\n",
      "2022-01-26 14:36:25.405767: I tensorflow/stream_executor/cuda/cuda_gpu_executor.cc:937] successful NUMA node read from SysFS had negative value (-1), but there must be at least one NUMA node, so returning NUMA node zero\n",
      "2022-01-26 14:36:25.406137: I tensorflow/core/common_runtime/gpu/gpu_device.cc:1510] Created device /job:localhost/replica:0/task:0/device:GPU:0 with 15403 MB memory:  -> device: 0, name: Tesla P100-PCIE-16GB, pci bus id: 0000:00:04.0, compute capability: 6.0\n",
      "2022-01-26 14:36:25.431384: I tensorflow/core/grappler/optimizers/meta_optimizer.cc:1137] Optimization results for grappler item: graph_to_optimize\n",
      "  function_optimizer: function_optimizer did nothing. time = 0.011ms.\n",
      "  function_optimizer: function_optimizer did nothing. time = 0.002ms.\n",
      "\n",
      "2022-01-26 14:36:27.004784: W tensorflow/compiler/mlir/lite/python/tf_tfl_flatbuffer_helpers.cc:351] Ignored output_format.\n",
      "2022-01-26 14:36:27.004873: W tensorflow/compiler/mlir/lite/python/tf_tfl_flatbuffer_helpers.cc:354] Ignored drop_control_dependency.\n",
      "2022-01-26 14:36:27.147786: I tensorflow/compiler/mlir/tensorflow/utils/dump_mlir_util.cc:210] disabling MLIR crash reproducer, set env var `MLIR_CRASH_REPRODUCER_DIRECTORY` to enable.\n"
     ]
    }
   ],
   "source": [
    "converter = tf.lite.TFLiteConverter.from_keras_model(model)\n",
    "model_tflite = converter.convert()\n",
    "file = open(\"model.tflite\", \"wb\").write(model_tflite)"
   ]
  },
  {
   "cell_type": "code",
   "execution_count": 22,
   "id": "6e4a7d42",
   "metadata": {
    "execution": {
     "iopub.execute_input": "2022-01-26T14:36:27.812106Z",
     "iopub.status.busy": "2022-01-26T14:36:27.791650Z",
     "iopub.status.idle": "2022-01-26T14:36:28.168595Z",
     "shell.execute_reply": "2022-01-26T14:36:28.167634Z",
     "shell.execute_reply.started": "2022-01-26T14:21:45.021298Z"
    },
    "papermill": {
     "duration": 0.54286,
     "end_time": "2022-01-26T14:36:28.168745",
     "exception": false,
     "start_time": "2022-01-26T14:36:27.625885",
     "status": "completed"
    },
    "tags": []
   },
   "outputs": [],
   "source": [
    "model.save('E_NET_B0_DEFAULT.h5')"
   ]
  },
  {
   "cell_type": "code",
   "execution_count": 23,
   "id": "8383097f",
   "metadata": {
    "execution": {
     "iopub.execute_input": "2022-01-26T14:36:28.434552Z",
     "iopub.status.busy": "2022-01-26T14:36:28.433663Z",
     "iopub.status.idle": "2022-01-26T14:36:30.328227Z",
     "shell.execute_reply": "2022-01-26T14:36:30.328651Z",
     "shell.execute_reply.started": "2022-01-26T14:21:45.412747Z"
    },
    "papermill": {
     "duration": 2.032268,
     "end_time": "2022-01-26T14:36:30.328831",
     "exception": false,
     "start_time": "2022-01-26T14:36:28.296563",
     "status": "completed"
    },
    "tags": []
   },
   "outputs": [],
   "source": [
    "from tensorflow import keras\n",
    "model_loaded = keras.models.load_model('E_NET_B0_DEFAULT.h5')"
   ]
  },
  {
   "cell_type": "code",
   "execution_count": 24,
   "id": "378848c9",
   "metadata": {
    "execution": {
     "iopub.execute_input": "2022-01-26T14:36:30.597415Z",
     "iopub.status.busy": "2022-01-26T14:36:30.596556Z",
     "iopub.status.idle": "2022-01-26T14:36:31.082583Z",
     "shell.execute_reply": "2022-01-26T14:36:31.083244Z",
     "shell.execute_reply.started": "2022-01-26T14:26:45.881656Z"
    },
    "papermill": {
     "duration": 0.628327,
     "end_time": "2022-01-26T14:36:31.083452",
     "exception": false,
     "start_time": "2022-01-26T14:36:30.455125",
     "status": "completed"
    },
    "tags": []
   },
   "outputs": [
    {
     "name": "stdout",
     "output_type": "stream",
     "text": [
      "\n",
      "(224, 224, 3)\n",
      "True\n"
     ]
    }
   ],
   "source": [
    "import cv2\n",
    "import tensorflow as tf\n",
    "from matplotlib.pyplot import imread\n",
    "from matplotlib.pyplot import imshow\n",
    "from tensorflow.keras.preprocessing import image\n",
    "from tensorflow.keras.applications.imagenet_utils import decode_predictions\n",
    "from tensorflow.keras.applications.imagenet_utils import preprocess_input\n",
    "from sklearn import metrics\n",
    "\n",
    "\n",
    "categ = ['basil', 'oregano', 'rosemary', 'sage', 'spearmint', 'thyme']\n",
    "\n",
    "\n",
    "IMG_SIZE = 224\n",
    "img_path = ('../input/pruned/pruned_images/basil/image100.jpg')\n",
    "\n",
    "img = cv2.imread(img_path)\n",
    "img = cv2.resize(img, (IMG_SIZE, IMG_SIZE))\n",
    "\n",
    "\n",
    "x = (img.astype(np.float32))       \n",
    "# # x = np.expand_dims(img, axis=0)\n",
    "# # print(x[1,:,:])\n",
    "\n",
    "vgg_mean = np.array([123.68, 116.779, 103.939], dtype=np.float32).reshape((3,1,1))\n",
    "print()\n",
    "print(x.shape)\n",
    "pp = np.zeros(x.shape)\n",
    "for i in range(3):\n",
    "    for j in range(224):\n",
    "        for k in range(224):\n",
    "            pp[k,j,i] = x[k,j,i] - vgg_mean[i]\n",
    "\n",
    "x[:,:,0] = pp[:,:,2]\n",
    "x[:,:,1] = pp[:,:,1]\n",
    "x[:,:,2] = pp[:,:,0]\n",
    "\n",
    "\n",
    "x = np.expand_dims(x, axis=0)\n",
    "# print(x[:,:,1,:])\n",
    "\n",
    "# print()\n",
    "\n",
    "t = preprocess_input(np.expand_dims(img, axis=0))\n",
    "print(np.array_equal(x,t))\n",
    "\n",
    "\n",
    "\n",
    "# print('Input image shape: ', x.shape)\n",
    "            \n",
    "# my_image = imread(img_path)\n",
    "# imshow(img)\n",
    "\n",
    "# pred = model_loaded.predict(x)\n",
    "\n",
    "# print(pred)\n",
    "# classification = np.argmax(pred[0])\n",
    "# print(classification)\n",
    "# print(categ[classification])"
   ]
  },
  {
   "cell_type": "code",
   "execution_count": null,
   "id": "0783bd59",
   "metadata": {
    "papermill": {
     "duration": 0.126964,
     "end_time": "2022-01-26T14:36:31.336742",
     "exception": false,
     "start_time": "2022-01-26T14:36:31.209778",
     "status": "completed"
    },
    "tags": []
   },
   "outputs": [],
   "source": []
  },
  {
   "cell_type": "code",
   "execution_count": 25,
   "id": "08c994f7",
   "metadata": {
    "execution": {
     "iopub.execute_input": "2022-01-26T14:36:31.629163Z",
     "iopub.status.busy": "2022-01-26T14:36:31.628485Z",
     "iopub.status.idle": "2022-01-26T14:36:31.730365Z",
     "shell.execute_reply": "2022-01-26T14:36:31.729672Z",
     "shell.execute_reply.started": "2022-01-26T14:26:50.142800Z"
    },
    "papermill": {
     "duration": 0.267587,
     "end_time": "2022-01-26T14:36:31.730531",
     "exception": false,
     "start_time": "2022-01-26T14:36:31.462944",
     "status": "completed"
    },
    "tags": []
   },
   "outputs": [
    {
     "name": "stdout",
     "output_type": "stream",
     "text": [
      "0\n",
      "basil\n"
     ]
    }
   ],
   "source": [
    "interpreter = tf.lite.Interpreter('./model.tflite')\n",
    "interpreter.allocate_tensors()\n",
    "\n",
    "input_details = interpreter.get_input_details()\n",
    "# print(input_details)\n",
    "output_details = interpreter.get_output_details()\n",
    "\n",
    "input_shape=input_details[0]['shape']\n",
    "#input_data= np.array(np.random.random_sample(input_shape), dtype=np.float32\n",
    "input_data = x\n",
    "interpreter.set_tensor(input_details[0]['index'], input_data)\n",
    "\n",
    "interpreter.invoke()\n",
    "\n",
    "output_data = interpreter.get_tensor(output_details[0]['index'])\n",
    "pred = np.argmax(output_data, axis=1)\n",
    "print(int(pred))\n",
    "print(categ[int(pred)])"
   ]
  },
  {
   "cell_type": "code",
   "execution_count": 26,
   "id": "3df7fb25",
   "metadata": {
    "execution": {
     "iopub.execute_input": "2022-01-26T14:36:31.993479Z",
     "iopub.status.busy": "2022-01-26T14:36:31.992575Z",
     "iopub.status.idle": "2022-01-26T14:36:31.994318Z",
     "shell.execute_reply": "2022-01-26T14:36:31.994751Z",
     "shell.execute_reply.started": "2022-01-26T14:26:52.833110Z"
    },
    "papermill": {
     "duration": 0.137054,
     "end_time": "2022-01-26T14:36:31.994921",
     "exception": false,
     "start_time": "2022-01-26T14:36:31.857867",
     "status": "completed"
    },
    "tags": []
   },
   "outputs": [],
   "source": [
    "path = '../input/d/gabrielhauss/testing-loading-predicting/frameee.jpg'\n",
    "\n",
    "def cropImg(path, num, IMG_SIZE):\n",
    "    img_array = cv2.imread(path, cv2.IMREAD_UNCHANGED)\n",
    "    crop_img = img_array[0:700, 160:870]\n",
    "    if(num==1):\n",
    "        img1 = crop_img[0:300, 0:350]\n",
    "#         imshow(img1)\n",
    "        return cv2.resize(img1, (IMG_SIZE, IMG_SIZE)).astype(np.float32)\n",
    "    if(num==3):\n",
    "        img2 = crop_img[380:700, 0:250]\n",
    "#         imshow(img2)\n",
    "        return cv2.resize(img2, (IMG_SIZE, IMG_SIZE)).astype(np.float32)\n",
    "    if(num==2):\n",
    "        img3 = crop_img[0:320, 380:800]\n",
    "#         imshow(img3)\n",
    "        return cv2.resize(img3, (IMG_SIZE, IMG_SIZE)).astype(np.float32)\n",
    "    if(num==4):\n",
    "        img4 = crop_img[380:700, 400:800]\n",
    "#         imshow(img4)\n",
    "        return cv2.resize(img4, (IMG_SIZE, IMG_SIZE)).astype(np.float32)"
   ]
  },
  {
   "cell_type": "code",
   "execution_count": 27,
   "id": "35fccbcf",
   "metadata": {
    "execution": {
     "iopub.execute_input": "2022-01-26T14:36:32.267008Z",
     "iopub.status.busy": "2022-01-26T14:36:32.266282Z",
     "iopub.status.idle": "2022-01-26T14:36:33.069202Z",
     "shell.execute_reply": "2022-01-26T14:36:33.070510Z",
     "shell.execute_reply.started": "2022-01-26T14:27:13.442607Z"
    },
    "papermill": {
     "duration": 0.944449,
     "end_time": "2022-01-26T14:36:33.070843",
     "exception": false,
     "start_time": "2022-01-26T14:36:32.126394",
     "status": "completed"
    },
    "tags": []
   },
   "outputs": [
    {
     "name": "stdout",
     "output_type": "stream",
     "text": [
      "[{'name': 'input_1', 'index': 0, 'shape': array([  1, 224, 224,   3], dtype=int32), 'shape_signature': array([ -1, 224, 224,   3], dtype=int32), 'dtype': <class 'numpy.float32'>, 'quantization': (0.0, 0), 'quantization_parameters': {'scales': array([], dtype=float32), 'zero_points': array([], dtype=int32), 'quantized_dimension': 0}, 'sparsity_parameters': {}}]\n",
      "0\n",
      "basil\n"
     ]
    }
   ],
   "source": [
    "interpreter = tf.lite.Interpreter('./model.tflite')\n",
    "interpreter.allocate_tensors()\n",
    "\n",
    "input_details = interpreter.get_input_details()\n",
    "print(input_details)\n",
    "output_details = interpreter.get_output_details()\n",
    "\n",
    "input_shape=input_details[0]['shape']\n",
    "\n",
    "\n",
    "vgg_mean = np.array([123.68, 116.779, 103.939], dtype=np.float32).reshape((3,1,1))\n",
    "\n",
    "x = cropImg(path,1 , IMG_SIZE)\n",
    "            \n",
    "pp = np.zeros(x.shape)\n",
    "for i in range(3):\n",
    "    for j in range(len(x)):\n",
    "        for k in range(len(x)):\n",
    "            pp[k,j,i] = x[k,j,i] - vgg_mean[i]\n",
    "\n",
    "x[:,:,0] = pp[:,:,2]\n",
    "x[:,:,1] = pp[:,:,1]\n",
    "x[:,:,2] = pp[:,:,0]\n",
    "\n",
    "\n",
    "x = np.expand_dims(x, axis=0)\n",
    "\n",
    "input_data = x\n",
    "\n",
    "input_data = interpreter.set_tensor(input_details[0]['index'], input_data)\n",
    "\n",
    "interpreter.invoke()\n",
    "\n",
    "output_data = interpreter.get_tensor(output_details[0]['index'])\n",
    "pred = np.argmax(output_data, axis=1)\n",
    "print(int(pred))\n",
    "print(categ[int(pred)])"
   ]
  },
  {
   "cell_type": "code",
   "execution_count": null,
   "id": "76140096",
   "metadata": {
    "execution": {
     "iopub.status.busy": "2022-01-26T14:21:47.309169Z",
     "iopub.status.idle": "2022-01-26T14:21:47.310089Z",
     "shell.execute_reply": "2022-01-26T14:21:47.309823Z",
     "shell.execute_reply.started": "2022-01-26T14:21:47.309795Z"
    },
    "papermill": {
     "duration": 0.128258,
     "end_time": "2022-01-26T14:36:33.373882",
     "exception": false,
     "start_time": "2022-01-26T14:36:33.245624",
     "status": "completed"
    },
    "tags": []
   },
   "outputs": [],
   "source": []
  },
  {
   "cell_type": "code",
   "execution_count": null,
   "id": "3c2b9964",
   "metadata": {
    "papermill": {
     "duration": 0.127076,
     "end_time": "2022-01-26T14:36:33.629149",
     "exception": false,
     "start_time": "2022-01-26T14:36:33.502073",
     "status": "completed"
    },
    "tags": []
   },
   "outputs": [],
   "source": []
  }
 ],
 "metadata": {
  "kernelspec": {
   "display_name": "Python 3",
   "language": "python",
   "name": "python3"
  },
  "language_info": {
   "codemirror_mode": {
    "name": "ipython",
    "version": 3
   },
   "file_extension": ".py",
   "mimetype": "text/x-python",
   "name": "python",
   "nbconvert_exporter": "python",
   "pygments_lexer": "ipython3",
   "version": "3.7.12"
  },
  "papermill": {
   "default_parameters": {},
   "duration": 223.470555,
   "end_time": "2022-01-26T14:36:37.270628",
   "environment_variables": {},
   "exception": null,
   "input_path": "__notebook__.ipynb",
   "output_path": "__notebook__.ipynb",
   "parameters": {},
   "start_time": "2022-01-26T14:32:53.800073",
   "version": "2.3.3"
  }
 },
 "nbformat": 4,
 "nbformat_minor": 5
}
